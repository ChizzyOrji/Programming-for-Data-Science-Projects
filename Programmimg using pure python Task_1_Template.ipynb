{
 "cells": [
  {
   "cell_type": "markdown",
   "metadata": {},
   "source": [
    "# UFCFVQ-15-M Programming for Data Science (Autumn 2021)\n",
    "# Programming Task 1\n",
    "\n",
  
   ]
  },
  {
   "cell_type": "markdown",
   "metadata": {
    "deletable": false
   },
   "source": [
    "<p style=\"color:red; font-weight:bold; font-size:xx-small\">OVERALL COURSEWORK MARK: 86%</p>\n",
    "<p style=\"color:red; font-weight:bold; font-size:xx-small\">GITLAB COMMENTS: 100%</p>\n"
   ]
  },
  {
   "cell_type": "markdown",
   "metadata": {
    "deletable": false
   },
   "source": [
    "### Requirement FR1 - Develop a function to find the arithmetic mean"
   ]
  },
  {
   "cell_type": "code",
   "execution_count": 1,
   "metadata": {},
   "outputs": [
    {
     "name": "stdout",
     "output_type": "stream",
     "text": [
      "the mean value is 15.333333333333334\n"
     ]
    }
   ],
   "source": [
    "# define the function for the mean valiue\n",
    "def mean(numbers):\n",
    "    mean = sum(numbers)/len(numbers)\n",
    "    return mean\n",
    "\n",
    "# create a list of data points\n",
    "numbers = [6, 2, 22, 21, 24, 23, 8, 9, 5, 3, 11, 28, 14, 13, 12, 26, 29, 16, 15, 20, 25, 1, 10, 18, 27, 19, 7]\n",
    "\n",
    "mean(numbers)\n",
    "\n",
    "# print the value\n",
    "print(\"the mean value is\", mean(numbers))"
   ]
  },
  {
   "cell_type": "markdown",
   "metadata": {
    "deletable": false
   },
   "source": [
    "<p style=\"color:red; font-weight:bold; font-size:xx-small\">MARK: 100%</p>\n",
    "<p style=\"color:red; font-weight:bold; font-size:xx-small\">FEEDBACK: Good.</p>"
   ]
  },
  {
   "cell_type": "markdown",
   "metadata": {
    "deletable": false
   },
   "source": [
    "### Requirement FR2 - Develop a function to find the standard deviation"
   ]
  },
  {
   "cell_type": "code",
   "execution_count": 2,
   "metadata": {},
   "outputs": [
    {
     "name": "stdout",
     "output_type": "stream",
     "text": [
      "the standard deviation is 8.393118874676114\n"
     ]
    }
   ],
   "source": [
    "# define the function for standard deviation\n",
    "def get_std_dev(numbers):\n",
    "    n = len(numbers)                                           # calculate the count\n",
    "    mean = sum(numbers)/ n                                     # calculate the mean\n",
    "    var = sum((x - mean)**2 for x in numbers) / n              # calculate the variance\n",
    "    std_dev = var ** 0.5                                       # calculate the standard deviation\n",
    "    return std_dev\n",
    "\n",
    "# create a list of data points\n",
    "numbers = [6, 2, 22, 21, 24, 23, 8, 9, 5, 3, 11, 28, 14, 13, 12, 26, 29, 16, 15, 20, 25, 1, 10, 18, 27, 19, 7]\n",
    "get_std_dev(numbers)\n",
    "\n",
    "print(\"the standard deviation is\",get_std_dev(numbers))"
   ]
  },
  {
   "cell_type": "markdown",
   "metadata": {
    "deletable": false
   },
   "source": [
    "<p style=\"color:red; font-weight:bold; font-size:xx-small\">MARK: 100%</p>\n",
    "<p style=\"color:red; font-weight:bold; font-size:xx-small\">FEEDBACK: Good.</p>"
   ]
  },
  {
   "cell_type": "markdown",
   "metadata": {
    "deletable": false
   },
   "source": [
    "### Requirement FR3 - Develop a function to find the min/max values and count "
   ]
  },
  {
   "cell_type": "code",
   "execution_count": 3,
   "metadata": {},
   "outputs": [
    {
     "name": "stdout",
     "output_type": "stream",
     "text": [
      "the minimum value is: 1 , the maximum value is: 29 and the count is: 27\n"
     ]
    }
   ],
   "source": [
    "# define the functions for minimum value, maximum value and count\n",
    "def minimum_value(numbers):\n",
    "    minimum_value = min(numbers)\n",
    "    return minimum_value\n",
    "\n",
    "def maximum_value(numbers):\n",
    "    maximum_value = max(numbers)\n",
    "    return maximum_value\n",
    "\n",
    "def count(numbers):\n",
    "    count = len(numbers)\n",
    "    return count\n",
    "   \n",
    "# create a list of data points\n",
    "numbers = [6, 2, 22, 21, 24, 23, 8, 9, 5, 3, 11, 28, 14, 13, 12, 26, 29, 16, 15, 20, 25, 1, 10, 18, 27, 19, 7]\n",
    "\n",
    "# print the values and count for the numbers list\n",
    "print(\"the minimum value is:\",minimum_value(numbers),\",\",\"the maximum value is:\",maximum_value(numbers), \"and\",\n",
    "      \"the count is:\",count(numbers))"
   ]
  },
  {
   "cell_type": "markdown",
   "metadata": {
    "deletable": false
   },
   "source": [
    "<p style=\"color:red; font-weight:bold; font-size:xx-small\">MARK: 50%</p>\n",
    "<p style=\"color:red; font-weight:bold; font-size:xx-small\">FEEDBACK: Not according to spec: should be one function.</p>"
   ]
  },
  {
   "cell_type": "markdown",
   "metadata": {
    "deletable": false
   },
   "source": [
    "# Requirement FR4 - Develop a function to find the 25th, 50th and 75th percentiles "
   ]
  },
  {
   "cell_type": "code",
   "execution_count": 4,
   "metadata": {},
   "outputs": [
    {
     "name": "stdout",
     "output_type": "stream",
     "text": [
      "the 25th, 50th and 75th percentile are [8, 15, 22] respectively.\n"
     ]
    }
   ],
   "source": [
    "# define the function and use the if statement to separate the case when the outcome is a whole number \n",
    "# and when it is in a decimal form\n",
    "\n",
    "def my_percentile(numbers, percentile):\n",
    "    n = len(numbers)\n",
    "    p = n * (percentile / 100)\n",
    "    if p.is_integer():\n",
    "        return sorted(numbers)[int(p)]\n",
    "    else:\n",
    "        return sorted(numbers)[int(round(p))-1]\n",
    "    \n",
    "numbers = [6, 2, 22, 21, 24, 23, 8, 9, 5, 3, 11, 28, 14, 13, 12, 26, 29, 16, 15, 20, 25, 1, 10, 18, 27, 19, 7]\n",
    "\n",
    "# define a list called “index” that contains the values of our percentiles\n",
    "percentile = [25, 50, 75]\n",
    "\n",
    "# build a list, called “percentile_function” that contains all the percentiles, evaluated through our function\n",
    "percentile_function = [my_percentile(numbers, i) for i in percentile]\n",
    "\n",
    "print(\"the 25th, 50th and 75th percentile are\",percentile_function,\"respectively.\")"
   ]
  },
  {
   "cell_type": "code",
   "execution_count": 11,
   "metadata": {},
   "outputs": [
    {
     "name": "stdout",
     "output_type": "stream",
     "text": [
      "[0, 100, 300]\n",
      "[100.0, 200.0, 300.0]\n"
     ]
    }
   ],
   "source": [
    "#MARKER\n",
    "print([my_percentile([400, 100, 200, 300, 0], p) for p in [25, 50, 75]]) # expect 100, 200, 300\n",
    "import numpy as np\n",
    "print([np.percentile([400, 100, 200, 300, 0], p) for p in [25, 50, 75]])"
   ]
  },
  {
   "cell_type": "markdown",
   "metadata": {
    "deletable": false
   },
   "source": [
    "<p style=\"color:red; font-weight:bold; font-size:xx-small\">MARK: 50%</p>\n",
    "<p style=\"color:red; font-weight:bold; font-size:xx-small\">FEEDBACK: Incorrect results (see example)</p>"
   ]
  },
  {
   "cell_type": "markdown",
   "metadata": {
    "deletable": false
   },
   "source": [
    "### Requirement FR5 - Develop a function to read a single column from a CSV file"
   ]
  },
  {
   "cell_type": "code",
   "execution_count": 13,
   "metadata": {},
   "outputs": [
    {
     "name": "stdout",
     "output_type": "stream",
     "text": [
      "('Wind', ['0.01', '1.412699784', '16.266484', '5.900014713', '0.0822', '0.005086066', '0.117978175', '7.468573702', '48.47990705', '1.378292235', '0.977082975', '32.17005152', '3.688710149', '366', '0.043437355', '1.379085419', '0.22061', '0.6093', '13.89880328', '0.080257771', '2.438966811', '0.633888557', '0.531134615', '5.857', '28.16738103', '111.59', '6.300269103', '0.000825', '0.608', '0.004365699', '60.31116', '0.198', '0.361973742', '0', '8.390989769', '0.105269485', '17.47251773', '6.789652', '0.5412648', '0.017452186', '0.123287671', '1.145', '0.307147387', '0.097338', '0', '12.62920683', '3.8407', '10.549225', '2.046003874', '3.875881', '0', '0.497064956', '0.0079', '1.428156269', '0.574940541', '0.453', '4.80031359', '0', '1.72268087', '1.493633864', '1.152924', '12.845', '12.657', '0', '6.497', '0.22774', '0', '0', '0.005', '0.006159', '6.894765181', '2.40369047', '50.83600814', '0.305662189', '16.81339144', '0.133', '1.6794', '0.76415852', '0', '19.825697', '0', '1.1274', '0.00075', '57.11571962', '277.7291061', '0', '0', '0.326664064'])\n"
     ]
    }
   ],
   "source": [
    "# assign the csv file to a variable\n",
    "file_name = 'task1.csv'\n",
    "\n",
    "# define the function\n",
    "def single_column(file_name, column_number):\n",
    "    with open(file_name, 'r') as csv_file:\n",
    "        \n",
    "        # output list to store all rows\n",
    "        output = []\n",
    "        \n",
    "        for row in csv_file:\n",
    "            words=row.replace(\"\\n\",\"\").split(',') # replace new line in row with empty column and separate values in row with a delimiter\n",
    "            output.append(words[column_number])\n",
    "            \n",
    "            \n",
    "# return the Column_name as output[0] and the content of the column as output[1:]\n",
    "    return(output[0],output[1:])\n",
    "      \n",
    "# print defined function\n",
    "print(single_column(file_name, 2))"
   ]
  },
  {
   "cell_type": "markdown",
   "metadata": {
    "deletable": false
   },
   "source": [
    "\n",
    "<p style=\"color:red; font-weight:bold; font-size:xx-small\">MARK: 75%</p>\n",
    "<p style=\"color:red; font-weight:bold; font-size:xx-small\">FEEDBACK: Good, but better to return numerical values where possible.</p>"
   ]
  },
  {
   "cell_type": "markdown",
   "metadata": {
    "deletable": false
   },
   "source": [
    "### Requirement FR6 - Develop a function to read CSV data from a file into memory"
   ]
  },
  {
   "cell_type": "code",
   "execution_count": 14,
   "metadata": {},
   "outputs": [
    {
     "name": "stdout",
     "output_type": "stream",
     "text": [
      "{'Hydropower': ['0.117', '41.64945459', '17.26791', '37.52781287', '1.76795', '0.885632595', '0.45726487', '0.284810423', '387.6868063', '5.125584584', '244.839096', '387.2508762', '23.14438369', '1202.43', '56.64701407', '7.512550207', '0', '1.6272', '0.016454789', '20.69612073', '13.48338', '0.015617162', '38.93203591', '13.27777778', '64.2234218', '16.9', '5.720179713', '0', '0.221', '13.81099543', '139.6678322', '16.4112', '10.77', '3.1074588', '0.694087982', '0.0245', '45.85205715', '80.997', '10.3295118', '0', '2.433342329', '0.45', '0.094557415', '1.791368', '24.17649672', '32.39511459', '1.6934', '0.072348', '26.32037732', '138.4962175', '0', '62.91198244', '35.20305729', '2.255678699', '1.288541272', '0.0165', '69.46684307', '1.852952842', '35.99700727', '30.76868807', '9.383758', '1.971', '12.346', '0', '17.56396055', '190.21311', '0', '0', '3.591', '4.712487886', '0.914864856', '2.920390756', '35.19825724', '6.369370161', '61.91687566', '34.80394017', '4.4661', '7.597013', '0', '59.51828075', '0', '9.900734781', '0', '5.464660531', '288.7063404', '6.868202', '72.08394993', '80.70625435'], 'Solar': ['0.603', '0.108128528', '12.081099', '1.578641473', '0.03926', '0.299208359', '0.134485968', '3.971724224', '3.137078404', '1.103538835', '0.881300118', '3.5462509', '5.118720829', '177.5', '0.011999821', '0.073591668', '0.19183', '2.3386', '0.952973', '0.037991538', '1.035739071', '0.012679515', '0.441810565', '0.1622', '10.15871272', '46.164', '3.791092002', '0.000961', '0.588876056', '0', '30.73240318', '0.01836', '0.037698887', '0.057143443', '0.022173967', '1.793230515', '23.23072906', '71.6883359', '0.1146904', '0.088143148', '0.001263953', '0.08', '0.117480937', '0.022788', '0.459692933', '2.2428', '0.9502', '3.2012', '0.098244292', '0.064488547', '0.013718674', '0.585723529', '0.01484375', '0.697743206', '3.020039802', '0.111623598', '0.675171297', '0.128029166', '2.12332226', '0.745192715', '1.249117', '0.299', '1.02', '0.009423834', '1.674', '0.57106', '0.154871783', '0.283982555', '0.585', '0.253621', '4.935234819', '9.349876912', '12.52057273', '0.205337811', '0.373100151', '1.957371429', '2.733', '4.719656655', '0.003989071', '7.890694078', '0.00696', '1.286493457', '0.9468835', '12.92181535', '97.11818182', '0', '0.010008089', '0.080231508'], 'Wind': ['0.01', '1.412699784', '16.266484', '5.900014713', '0.0822', '0.005086066', '0.117978175', '7.468573702', '48.47990705', '1.378292235', '0.977082975', '32.17005152', '3.688710149', '366', '0.043437355', '1.379085419', '0.22061', '0.6093', '13.89880328', '0.080257771', '2.438966811', '0.633888557', '0.531134615', '5.857', '28.16738103', '111.59', '6.300269103', '0.000825', '0.608', '0.004365699', '60.31116', '0.198', '0.361973742', '0', '8.390989769', '0.105269485', '17.47251773', '6.789652', '0.5412648', '0.017452186', '0.123287671', '1.145', '0.307147387', '0.097338', '0', '12.62920683', '3.8407', '10.549225', '2.046003874', '3.875881', '0', '0.497064956', '0.0079', '1.428156269', '0.574940541', '0.453', '4.80031359', '0', '1.72268087', '1.493633864', '1.152924', '12.845', '12.657', '0', '6.497', '0.22774', '0', '0', '0.005', '0.006159', '6.894765181', '2.40369047', '50.83600814', '0.305662189', '16.81339144', '0.133', '1.6794', '0.76415852', '0', '19.825697', '0', '1.1274', '0.00075', '57.11571962', '277.7291061', '0', '0', '0.326664064'], 'Other': ['0', '2.29693941', '3.539346', '4.763252129', '0.0811', '0.008019927', '0.109149431', '5.427544126', '52.88998503', '0.496261903', '0.679177831', '9.588635536', '6.737367486', '90.72346175', '2.088838157', '0.682716361', '0.05136', '4.7285', '6.119796142', '0.427967651', '0', '1.369850244', '0.23331662', '12.86168421', '8.521197318', '51.437', '0.298303335', '0.100724044', '2.371182482', '6.009414916', '30.45869682', '14.5368', '0.021740437', '0', '1.242427268', '0.115', '25.31219835', '33.6554308', '0.0024284', '0', '0.962146042', '0.47', '0.226101964', '0.05405', '1.004339878', '6.480283932', '0', '4.875860296', '8.320907599', '0.178266653', '0', '0.163131005', '0.022', '1.39699069', '0.0041', '', '2.647315578', '0.222533905', '1.667658529', '0.674414968', '11.540128', '6.331', '3.439', '0.114486339', '0.4617102', '0.4645', '0', '0.903', '1.419478261', '0.28827567', '0.530431005', '10.1747942', '7.378921565', '0.11339364', '11.85871366', '1.974071402', '2.01435', '12.31650175', '0', '9.983786807', '0', '0.218506543', '0.005983607', '35.58660245', '83.67703684', '0', '0', '0.060833333']}\n"
     ]
    }
   ],
   "source": [
    "# assign the csv file to a variable\n",
    "file_name = 'task1.csv'\n",
    "rows = range(4)\n",
    "\n",
    "# define the function\n",
    "def read_data_to_memory(file_name):\n",
    "    my_dictionary = {}                                            # create an empty dictionary\n",
    "    for x in range(4):\n",
    "        column_names, column_data = single_column(file_name, x)   # call previous function\n",
    "        my_dictionary[column_names] = column_data\n",
    "    \n",
    "    return my_dictionary\n",
    "\n",
    "# print defined function\n",
    "print(read_data_to_memory(file_name))"
   ]
  },
  {
   "cell_type": "markdown",
   "metadata": {
    "deletable": false
   },
   "source": [
    "<p style=\"color:red; font-weight:bold; font-size:xx-small\">MARK: 100%</p>\n",
    "<p style=\"color:red; font-weight:bold; font-size:xx-small\">FEEDBACK: Good. Better to return numerical values where possible (not penalised again).</p>"
   ]
  },
  {
   "cell_type": "markdown",
   "metadata": {
    "deletable": false
   },
   "source": [
    "### Requirement FR7 - Develop a function to generate a set of statistics for a given data file"
   ]
  },
  {
   "cell_type": "code",
   "execution_count": 15,
   "metadata": {},
   "outputs": [
    {
     "name": "stdout",
     "output_type": "stream",
     "text": [
      "{'Stats': ['Count', 'Mean', 'Stdev', 'Min', '25th', '50th', '75th', 'Max'], 'Hydropower': [88, 48.821284107874995, 143.61156541119564, 0.0, 0.885632595, 7.597013, 35.99700727, 1202.43], 'Solar': [88, 6.617743776193181, 23.050166228825766, 0.0, 0.080231508, 0.585723529, 2.733, 177.5], 'Wind': [88, 14.380072730647731, 50.17237934719127, 0.0, 0.0822, 0.977082975, 6.789652, 366.0], 'Other': [88, 6.934232050284091, 15.838543567520071, 0.0, 0.100724044, 0.903, 6.331, 90.72346175]}\n"
     ]
    }
   ],
   "source": [
    "# assign the csv file to a variable\n",
    "file_name = 'task1.csv'\n",
    "\n",
    "# define the function\n",
    "def statistics(file_name):\n",
    "    my_memory = read_data_to_memory(file_name) # call the function in FR6 and assign it to a variable\n",
    "    stat_dictionary = {}                       # create an empty dictionary\n",
    "    stat_dictionary[\"Stats\"] = [\"Count\",\"Mean\",\"Stdev\",\"Min\",\"25th\",\"50th\",\"75th\",\"Max\"] # insert the required output format\n",
    "        \n",
    "    for key,value in my_memory.items():\n",
    "        my_new_list = []             # create an empty list to append values from the dictionary created in FR6\n",
    "        stat_dict = []               # create an empty list to append the values of the statistics functions\n",
    "        \n",
    "        for i in value:\n",
    "            if i=='':\n",
    "                my_new_list.append(0.0)\n",
    "            else:\n",
    "                my_new_list.append(float(i))\n",
    "        \n",
    "        final_list = list(my_new_list)   # the final list containing the values for which a set of statistics is to be generated\n",
    "        \n",
    "        # append the statistics functions developed in FR1 to FR4 to second empty list created\n",
    "        stat_dict.append(count(final_list))\n",
    "        stat_dict.append(mean(final_list))\n",
    "        stat_dict.append(get_std_dev(final_list))\n",
    "        stat_dict.append(minimum_value(final_list))\n",
    "        stat_dict.append(my_percentile(final_list,25))\n",
    "        stat_dict.append(my_percentile(final_list,50))\n",
    "        stat_dict.append(my_percentile(final_list,75))\n",
    "        stat_dict.append(maximum_value(final_list))\n",
    "        \n",
    "        stat_dictionary[key] = stat_dict   # assign the list to \n",
    "                                \n",
    "    return stat_dictionary               # return the dictionary\n",
    "\n",
    "\n",
    "print(statistics(file_name))"
   ]
  },
  {
   "cell_type": "markdown",
   "metadata": {
    "deletable": false
   },
   "source": [
    "<p style=\"color:red; font-weight:bold; font-size:xx-small\">MARK: 75%</p>\n",
    "<p style=\"color:red; font-weight:bold; font-size:xx-small\">FEEDBACK: Good, but not according to spec: should take in data structure, not file name.</p>"
   ]
  },
  {
   "cell_type": "markdown",
   "metadata": {
    "deletable": false
   },
   "source": [
    "### Requirement FR8 - Develop a function to print a custom table"
   ]
  },
  {
   "cell_type": "code",
   "execution_count": 16,
   "metadata": {},
   "outputs": [
    {
     "name": "stdout",
     "output_type": "stream",
     "text": [
      "******************************************************************************************************************************\n",
      "*        Stats         *      Hydropower      *        Solar         *         Wind         *        Other         \n",
      "*        Count         *          88          *          88          *          88          *          88          \n",
      "*         Mean         *  48.821284107874995  *  6.617743776193181   *  14.380072730647731  *  6.934232050284091   \n",
      "*        Stdev         *  143.61156541119564  *  23.050166228825766  *  50.17237934719127   *  15.838543567520071  \n",
      "*         Min          *         0.0          *         0.0          *         0.0          *         0.0          \n",
      "*         25th         *     0.885632595      *     0.080231508      *        0.0822        *     0.100724044      \n",
      "*         50th         *       7.597013       *     0.585723529      *     0.977082975      *        0.903         \n",
      "*         75th         *     35.99700727      *        2.733         *       6.789652       *        6.331         \n",
      "*         Max          *       1202.43        *        177.5         *        366.0         *     90.72346175      \n",
      "******************************************************************************************************************************\n"
     ]
    }
   ],
   "source": [
    "# assign the csv file to a variable\n",
    "file_name = 'task1.csv'\n",
    "\n",
    "# define the function\n",
    "def custom_table(file_name):\n",
    "    my_stats = statistics(file_name)             # assign function value from FR7 to a variable\n",
    "    my_border = \"*\" * 126                        # assign a border count \n",
    "    my_format = \"*{:^22}\" * (len(my_stats))        \n",
    "    print(\"{:^22}\".format(my_border))            # print the border\n",
    "    \n",
    "    for my_key in zip(*([i] + (k) for i,k in my_stats.items())):          \n",
    "        print(my_format.format(*my_key))         # print the values\n",
    "              \n",
    "    print(\"{:^22}\".format(my_border))            # print the border\n",
    "\n",
    "custom_table(file_name) # call the function\n"
   ]
  },
  {
   "cell_type": "markdown",
   "metadata": {
    "deletable": false
   },
   "source": [
    "<p style=\"color:red; font-weight:bold; font-size:xx-small\">MARK: 75%</p>\n",
    "<p style=\"color:red; font-weight:bold; font-size:xx-small\">FEEDBACK: Good, but not according to spec: should take in data structure not file name. No input parameters for border character or column selection.</p>"
   ]
  },
  {
   "cell_type": "markdown",
   "metadata": {
    "deletable": false
   },
   "source": [
    "# Coding Standards\n",
    "<p style=\"color:red; font-weight:bold; font-size:xx-small\">MARK: 100%</p>\n",
    "<p style=\"color:red; font-weight:bold; font-size:xx-small\">FEEDBACK: Good.</p>"
   ]
  },
  {
   "cell_type": "markdown",
   "metadata": {
    "deletable": false
   },
   "source": [
    "# Process Development Report for Task 1\n"
   ]
  },
  {
   "cell_type": "markdown",
   "metadata": {},
   "source": [
    "At first glance, I was certain task 1 was going to be an easy task. However, when I started, I realised that working without the use of any Python libraries, was slightly tougher than I anticipated. I therefore went back to the drawing board, I had to go through my lecture notes and online tutorials. I was able to successfully complete my task 1.\n",
    "\n",
    "I was excited to work on the task 1 of this assignment and thought I was going to be done in a day. I planned to conclude task 1 in 24hours and submit before the deadline. I completed FR 1 to 5 in less than an hour but questions 6, 7 and 8 were tougher than I anticipated. When I realised that I couldn’t complete the task 1 in 24hours, I was quite disappointed, but this pushed me to work harder. Looking back, I feel very satisfied that I put in the work.\n",
    "\n",
    "Starting this assignment early was a very good step I took and helped me finish before the deadline. It also gave me enough time to properly search for learning materials for my personal study, which in turn helped me solve FR 6 to 8. However, assuming that the assignment will be very easy was a wrong move on my part. I should have adequately prepared myself before the tasks were assigned to us.\n",
    "\n",
    "Working on task 1 without any python library was a major challenge. FR1 to 4 were easier, I simply defined my functions and applied my formulars, then called my functions. I could have simply called my developed functions instead of writing the formulars from scratch when developing the next function. Attempting question 5 without importing csv library did not seem like a possibility but I was able to solve this. I initially was not sure how to use my already defined functions while developing a new function in FR6 to 8. I figured this out and completed FR 6 and 7 but FR8 took me quite some time to figure out how to print my custom table.\n",
    "\n",
    "The reason my plan to start early and finish task 1 in 24hours did not work out was because I failed to prepare adequately ahead of the assignment. From experience, starting a task early helps ensure a near to perfect outcome because there is enough time to review and correct errors. I think being aware of the need for adequate preparation in the future will be helpful.\n",
    "This task has taught me a lot about Python programming language. I learned to write Python codes without importing any python library, I learned to use an already defined function while developing a new function and how to print a custom table. Above all, I learned the importance of preparation.\n",
    "\n",
    "Going forward, I will reduce my over reliance on python libraries, I will also ensure to always start a task early and above all, I will ensure I’m adequately prepared."
   ]
  },
  {
   "cell_type": "markdown",
   "metadata": {
    "deletable": false
   },
   "source": [
    "<p style=\"color:red; font-weight:bold; font-size:xx-small\">MARK: 50%</p>\n",
    "<p style=\"color:red; font-weight:bold; font-size:xx-small\">FEEDBACK: Good reflection. Could have included more details on strengths/weaknesses/improvements/alternatives. Note: reducing reliance on libraries is not necessary. The restriction about not including libraries for Task 1 was to check your basic Python programming skills.</p>"
   ]
  },
  {
   "cell_type": "code",
   "execution_count": null,
   "metadata": {},
   "outputs": [],
   "source": []
  }
 ],
 "metadata": {
  "kernelspec": {
   "display_name": "Python 3",
   "language": "python",
   "name": "python3"
  },
  "language_info": {
   "codemirror_mode": {
    "name": "ipython",
    "version": 3
   },
   "file_extension": ".py",
   "mimetype": "text/x-python",
   "name": "python",
   "nbconvert_exporter": "python",
   "pygments_lexer": "ipython3",
   "version": "3.8.8"
  }
 },
 "nbformat": 4,
 "nbformat_minor": 4
}
